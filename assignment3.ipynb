{
 "cells": [
  {
   "cell_type": "markdown",
   "metadata": {},
   "source": [
    "# Question1"
   ]
  },
  {
   "cell_type": "code",
   "execution_count": 9,
   "metadata": {},
   "outputs": [
    {
     "name": "stdout",
     "output_type": "stream",
     "text": [
      "Thor 15th July 2010 ->Iron Man 12th June 2010 ->None\n",
      "Thor 15th July 2010 ->None\n"
     ]
    }
   ],
   "source": [
    "class MovieNode:\n",
    "\n",
    "    def __init__(self, movieName, relDate):\n",
    "        self.movieName = movieName\n",
    "        self.relDate = relDate\n",
    "        self.next = None\n",
    "        return\n",
    "class NetflixMovieList:\n",
    "    def __init__(self):\n",
    "        self.head = None\n",
    "    def addMovie(self, movieName, relDate):\n",
    "        new = MovieNode(movieName, relDate)\n",
    "        if self.head == None:\n",
    "            self.head = new\n",
    "            return\n",
    "        new.next = self.head\n",
    "        self.head = new\n",
    "        return\n",
    "    def displayMovies(self):\n",
    "        if self.head == None:\n",
    "            print(\"No movies to show right now\")\n",
    "            return\n",
    "        temp = self.head\n",
    "        while(temp != None):\n",
    "            print(temp.movieName, temp.relDate, '->', end = \"\")\n",
    "            temp = temp.next\n",
    "        print('None')\n",
    "        return\n",
    "    def removeLastNode(self): \n",
    "        if self.head == None: \n",
    "            return None\n",
    "        if self.head.next == None: \n",
    "            self.head = None\n",
    "            return None\n",
    "        second_last = self.head \n",
    "        while(second_last.next.next): \n",
    "            second_last = second_last.next\n",
    "        second_last.next = None\n",
    "        return self.head \n",
    "\n",
    "movie_list = NetflixMovieList()\n",
    "movie_list.addMovie('Iron Man', '12th June 2010')\n",
    "movie_list.addMovie('Thor', '15th July 2010')\n",
    "movie_list.displayMovies()\n",
    "movie_list.removeLastNode()\n",
    "movie_list.displayMovies()"
   ]
  },
  {
   "cell_type": "code",
   "execution_count": null,
   "metadata": {},
   "outputs": [],
   "source": []
  }
 ],
 "metadata": {
  "kernelspec": {
   "display_name": "Python 3",
   "language": "python",
   "name": "python3"
  },
  "language_info": {
   "codemirror_mode": {
    "name": "ipython",
    "version": 3
   },
   "file_extension": ".py",
   "mimetype": "text/x-python",
   "name": "python",
   "nbconvert_exporter": "python",
   "pygments_lexer": "ipython3",
   "version": "3.8.3"
  }
 },
 "nbformat": 4,
 "nbformat_minor": 4
}
